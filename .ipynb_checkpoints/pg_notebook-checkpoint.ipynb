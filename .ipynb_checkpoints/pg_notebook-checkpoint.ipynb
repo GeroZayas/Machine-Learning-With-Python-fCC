{
 "cells": [
  {
   "cell_type": "code",
   "execution_count": 1,
   "id": "77d2e8cd-235d-4aec-980b-795bb594a39d",
   "metadata": {},
   "outputs": [],
   "source": [
    "import numpy as np"
   ]
  },
  {
   "cell_type": "code",
   "execution_count": 2,
   "id": "d5b36b32-f9a2-42fa-aabc-59c1cfc03a06",
   "metadata": {},
   "outputs": [],
   "source": [
    "heights = [189, 170, 189, 163, 183, 171, 185, 168, 173, 183, 173, 173, 175, 178, 183, 193, 178, 173, 174, 183, 183, 180, 168, 180, 170, 178, 182, 180, 183, 178, 182, 188, 175, 179, 183, 193, 182, 183, 177, 185, 188, 188, 182, 185, 191]\n"
   ]
  },
  {
   "cell_type": "code",
   "execution_count": 4,
   "id": "2e25b26b-ff0c-4361-b61f-b1ac97941d94",
   "metadata": {},
   "outputs": [],
   "source": [
    "heights_arr = np.array(heights)"
   ]
  },
  {
   "cell_type": "code",
   "execution_count": 5,
   "id": "3ddb1d4c-bbc7-4d93-ae6a-012c7018af1a",
   "metadata": {},
   "outputs": [
    {
     "data": {
      "text/plain": [
       "array([189, 170, 189, 163, 183, 171, 185, 168, 173, 183, 173, 173, 175,\n",
       "       178, 183, 193, 178, 173, 174, 183, 183, 180, 168, 180, 170, 178,\n",
       "       182, 180, 183, 178, 182, 188, 175, 179, 183, 193, 182, 183, 177,\n",
       "       185, 188, 188, 182, 185, 191])"
      ]
     },
     "execution_count": 5,
     "metadata": {},
     "output_type": "execute_result"
    }
   ],
   "source": [
    "heights_arr"
   ]
  },
  {
   "cell_type": "code",
   "execution_count": 6,
   "id": "9883529c-7567-4b30-bac0-63ac001cb194",
   "metadata": {},
   "outputs": [
    {
     "data": {
      "text/plain": [
       "numpy.ndarray"
      ]
     },
     "execution_count": 6,
     "metadata": {},
     "output_type": "execute_result"
    }
   ],
   "source": [
    "type(heights_arr)"
   ]
  },
  {
   "cell_type": "code",
   "execution_count": null,
   "id": "8f706053-1dfb-41d3-a09b-886cf5e440df",
   "metadata": {},
   "outputs": [],
   "source": []
  }
 ],
 "metadata": {
  "kernelspec": {
   "display_name": "venv",
   "language": "python",
   "name": "venv"
  },
  "language_info": {
   "codemirror_mode": {
    "name": "ipython",
    "version": 3
   },
   "file_extension": ".py",
   "mimetype": "text/x-python",
   "name": "python",
   "nbconvert_exporter": "python",
   "pygments_lexer": "ipython3",
   "version": "3.12.2"
  }
 },
 "nbformat": 4,
 "nbformat_minor": 5
}
