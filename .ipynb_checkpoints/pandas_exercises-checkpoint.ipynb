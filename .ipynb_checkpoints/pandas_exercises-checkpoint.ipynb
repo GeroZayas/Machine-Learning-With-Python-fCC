{
 "cells": [
  {
   "cell_type": "code",
   "execution_count": 1,
   "id": "c2783b19-b8bd-4577-96ac-a2e7339e4491",
   "metadata": {},
   "outputs": [],
   "source": [
    "import numpy as np"
   ]
  },
  {
   "cell_type": "code",
   "execution_count": 2,
   "id": "deeafa72-ebfc-4e4e-b901-221143dafc02",
   "metadata": {},
   "outputs": [],
   "source": [
    "import matplotlib.pyplot as plt"
   ]
  },
  {
   "cell_type": "code",
   "execution_count": 3,
   "id": "f61000ed-ad15-4d51-9f55-9cd293d824b0",
   "metadata": {},
   "outputs": [],
   "source": [
    "import pandas as pd"
   ]
  },
  {
   "cell_type": "code",
   "execution_count": 4,
   "id": "558fec40-6a34-41eb-8496-2b908f1fde4a",
   "metadata": {},
   "outputs": [
    {
     "name": "stdout",
     "output_type": "stream",
     "text": [
      "order             16\n",
      "age               52\n",
      "height           193\n",
      "party     republican\n",
      "Name: Abraham Lincoln, dtype: object\n"
     ]
    }
   ],
   "source": [
    "presidents_df = pd.read_csv('https://sololearn.com/uploads/files/president_heights_party.csv', index_col='name')\n",
    "                                  \n",
    "print(presidents_df.loc['Abraham Lincoln'])"
   ]
  },
  {
   "cell_type": "code",
   "execution_count": 5,
   "id": "865e88d2-1f9e-479d-b656-bea4282fa4be",
   "metadata": {},
   "outputs": [
    {
     "data": {
      "text/html": [
       "<div>\n",
       "<style scoped>\n",
       "    .dataframe tbody tr th:only-of-type {\n",
       "        vertical-align: middle;\n",
       "    }\n",
       "\n",
       "    .dataframe tbody tr th {\n",
       "        vertical-align: top;\n",
       "    }\n",
       "\n",
       "    .dataframe thead th {\n",
       "        text-align: right;\n",
       "    }\n",
       "</style>\n",
       "<table border=\"1\" class=\"dataframe\">\n",
       "  <thead>\n",
       "    <tr style=\"text-align: right;\">\n",
       "      <th></th>\n",
       "      <th>order</th>\n",
       "      <th>age</th>\n",
       "      <th>height</th>\n",
       "      <th>party</th>\n",
       "    </tr>\n",
       "    <tr>\n",
       "      <th>name</th>\n",
       "      <th></th>\n",
       "      <th></th>\n",
       "      <th></th>\n",
       "      <th></th>\n",
       "    </tr>\n",
       "  </thead>\n",
       "  <tbody>\n",
       "    <tr>\n",
       "      <th>George Washington</th>\n",
       "      <td>1</td>\n",
       "      <td>57</td>\n",
       "      <td>189</td>\n",
       "      <td>none</td>\n",
       "    </tr>\n",
       "    <tr>\n",
       "      <th>John Adams</th>\n",
       "      <td>2</td>\n",
       "      <td>61</td>\n",
       "      <td>170</td>\n",
       "      <td>federalist</td>\n",
       "    </tr>\n",
       "    <tr>\n",
       "      <th>Thomas Jefferson</th>\n",
       "      <td>3</td>\n",
       "      <td>57</td>\n",
       "      <td>189</td>\n",
       "      <td>democratic-republican</td>\n",
       "    </tr>\n",
       "    <tr>\n",
       "      <th>James Madison</th>\n",
       "      <td>4</td>\n",
       "      <td>57</td>\n",
       "      <td>163</td>\n",
       "      <td>democratic-republican</td>\n",
       "    </tr>\n",
       "    <tr>\n",
       "      <th>James Monroe</th>\n",
       "      <td>5</td>\n",
       "      <td>58</td>\n",
       "      <td>183</td>\n",
       "      <td>democratic-republican</td>\n",
       "    </tr>\n",
       "    <tr>\n",
       "      <th>John Quincy Adams</th>\n",
       "      <td>6</td>\n",
       "      <td>57</td>\n",
       "      <td>171</td>\n",
       "      <td>democratic-republican</td>\n",
       "    </tr>\n",
       "    <tr>\n",
       "      <th>Andrew Jackson</th>\n",
       "      <td>7</td>\n",
       "      <td>61</td>\n",
       "      <td>185</td>\n",
       "      <td>democratic</td>\n",
       "    </tr>\n",
       "    <tr>\n",
       "      <th>Martin Van Buren</th>\n",
       "      <td>8</td>\n",
       "      <td>54</td>\n",
       "      <td>168</td>\n",
       "      <td>democratic</td>\n",
       "    </tr>\n",
       "    <tr>\n",
       "      <th>William Henry Harrison</th>\n",
       "      <td>9</td>\n",
       "      <td>68</td>\n",
       "      <td>173</td>\n",
       "      <td>whig</td>\n",
       "    </tr>\n",
       "    <tr>\n",
       "      <th>John Tyler</th>\n",
       "      <td>10</td>\n",
       "      <td>51</td>\n",
       "      <td>183</td>\n",
       "      <td>whig</td>\n",
       "    </tr>\n",
       "    <tr>\n",
       "      <th>James K. Polk</th>\n",
       "      <td>11</td>\n",
       "      <td>49</td>\n",
       "      <td>173</td>\n",
       "      <td>democratic</td>\n",
       "    </tr>\n",
       "    <tr>\n",
       "      <th>Zachary Taylor</th>\n",
       "      <td>12</td>\n",
       "      <td>64</td>\n",
       "      <td>173</td>\n",
       "      <td>whig</td>\n",
       "    </tr>\n",
       "    <tr>\n",
       "      <th>Millard Fillmore</th>\n",
       "      <td>13</td>\n",
       "      <td>50</td>\n",
       "      <td>175</td>\n",
       "      <td>whig</td>\n",
       "    </tr>\n",
       "    <tr>\n",
       "      <th>Franklin Pierce</th>\n",
       "      <td>14</td>\n",
       "      <td>48</td>\n",
       "      <td>178</td>\n",
       "      <td>democratic</td>\n",
       "    </tr>\n",
       "    <tr>\n",
       "      <th>James Buchanan</th>\n",
       "      <td>15</td>\n",
       "      <td>65</td>\n",
       "      <td>183</td>\n",
       "      <td>democratic</td>\n",
       "    </tr>\n",
       "    <tr>\n",
       "      <th>Abraham Lincoln</th>\n",
       "      <td>16</td>\n",
       "      <td>52</td>\n",
       "      <td>193</td>\n",
       "      <td>republican</td>\n",
       "    </tr>\n",
       "    <tr>\n",
       "      <th>Andrew Johnson</th>\n",
       "      <td>17</td>\n",
       "      <td>56</td>\n",
       "      <td>178</td>\n",
       "      <td>national union</td>\n",
       "    </tr>\n",
       "    <tr>\n",
       "      <th>Ulysses S. Grant</th>\n",
       "      <td>18</td>\n",
       "      <td>46</td>\n",
       "      <td>173</td>\n",
       "      <td>republican</td>\n",
       "    </tr>\n",
       "    <tr>\n",
       "      <th>Rutherford B. Hayes</th>\n",
       "      <td>19</td>\n",
       "      <td>54</td>\n",
       "      <td>174</td>\n",
       "      <td>republican</td>\n",
       "    </tr>\n",
       "    <tr>\n",
       "      <th>James A. Garfield</th>\n",
       "      <td>20</td>\n",
       "      <td>49</td>\n",
       "      <td>183</td>\n",
       "      <td>republican</td>\n",
       "    </tr>\n",
       "    <tr>\n",
       "      <th>Chester A. Arthur</th>\n",
       "      <td>21</td>\n",
       "      <td>51</td>\n",
       "      <td>183</td>\n",
       "      <td>republican</td>\n",
       "    </tr>\n",
       "    <tr>\n",
       "      <th>Grover Cleveland</th>\n",
       "      <td>22</td>\n",
       "      <td>47</td>\n",
       "      <td>180</td>\n",
       "      <td>democratic</td>\n",
       "    </tr>\n",
       "    <tr>\n",
       "      <th>Benjamin Harrison</th>\n",
       "      <td>23</td>\n",
       "      <td>55</td>\n",
       "      <td>168</td>\n",
       "      <td>republican</td>\n",
       "    </tr>\n",
       "    <tr>\n",
       "      <th>Grover Cleveland</th>\n",
       "      <td>25</td>\n",
       "      <td>55</td>\n",
       "      <td>180</td>\n",
       "      <td>democratic</td>\n",
       "    </tr>\n",
       "    <tr>\n",
       "      <th>William McKinley</th>\n",
       "      <td>25</td>\n",
       "      <td>54</td>\n",
       "      <td>170</td>\n",
       "      <td>republican</td>\n",
       "    </tr>\n",
       "    <tr>\n",
       "      <th>Theodore Roosevelt</th>\n",
       "      <td>26</td>\n",
       "      <td>42</td>\n",
       "      <td>178</td>\n",
       "      <td>republican</td>\n",
       "    </tr>\n",
       "    <tr>\n",
       "      <th>William Howard Taft</th>\n",
       "      <td>27</td>\n",
       "      <td>51</td>\n",
       "      <td>182</td>\n",
       "      <td>republican</td>\n",
       "    </tr>\n",
       "    <tr>\n",
       "      <th>Woodrow Wilson</th>\n",
       "      <td>28</td>\n",
       "      <td>56</td>\n",
       "      <td>180</td>\n",
       "      <td>democratic</td>\n",
       "    </tr>\n",
       "    <tr>\n",
       "      <th>Warren G. Harding</th>\n",
       "      <td>29</td>\n",
       "      <td>55</td>\n",
       "      <td>183</td>\n",
       "      <td>republican</td>\n",
       "    </tr>\n",
       "    <tr>\n",
       "      <th>Calvin Coolidge</th>\n",
       "      <td>30</td>\n",
       "      <td>51</td>\n",
       "      <td>178</td>\n",
       "      <td>republican</td>\n",
       "    </tr>\n",
       "    <tr>\n",
       "      <th>Herbert Hoover</th>\n",
       "      <td>31</td>\n",
       "      <td>54</td>\n",
       "      <td>182</td>\n",
       "      <td>republican</td>\n",
       "    </tr>\n",
       "    <tr>\n",
       "      <th>Franklin D. Roosevelt</th>\n",
       "      <td>32</td>\n",
       "      <td>51</td>\n",
       "      <td>188</td>\n",
       "      <td>democratic</td>\n",
       "    </tr>\n",
       "    <tr>\n",
       "      <th>Harry S. Truman</th>\n",
       "      <td>33</td>\n",
       "      <td>60</td>\n",
       "      <td>175</td>\n",
       "      <td>democratic</td>\n",
       "    </tr>\n",
       "    <tr>\n",
       "      <th>Dwight D. Eisenhower</th>\n",
       "      <td>34</td>\n",
       "      <td>62</td>\n",
       "      <td>179</td>\n",
       "      <td>republican</td>\n",
       "    </tr>\n",
       "    <tr>\n",
       "      <th>John F. Kennedy</th>\n",
       "      <td>35</td>\n",
       "      <td>43</td>\n",
       "      <td>183</td>\n",
       "      <td>democratic</td>\n",
       "    </tr>\n",
       "    <tr>\n",
       "      <th>Lyndon B. Johnson</th>\n",
       "      <td>36</td>\n",
       "      <td>55</td>\n",
       "      <td>193</td>\n",
       "      <td>democratic</td>\n",
       "    </tr>\n",
       "    <tr>\n",
       "      <th>Richard Nixon</th>\n",
       "      <td>37</td>\n",
       "      <td>56</td>\n",
       "      <td>182</td>\n",
       "      <td>republican</td>\n",
       "    </tr>\n",
       "    <tr>\n",
       "      <th>Gerald Ford</th>\n",
       "      <td>38</td>\n",
       "      <td>61</td>\n",
       "      <td>183</td>\n",
       "      <td>republican</td>\n",
       "    </tr>\n",
       "    <tr>\n",
       "      <th>Jimmy Carter</th>\n",
       "      <td>39</td>\n",
       "      <td>52</td>\n",
       "      <td>177</td>\n",
       "      <td>democratic</td>\n",
       "    </tr>\n",
       "    <tr>\n",
       "      <th>Ronald Reagan</th>\n",
       "      <td>40</td>\n",
       "      <td>69</td>\n",
       "      <td>185</td>\n",
       "      <td>republican</td>\n",
       "    </tr>\n",
       "    <tr>\n",
       "      <th>George H. W. Bush</th>\n",
       "      <td>41</td>\n",
       "      <td>64</td>\n",
       "      <td>188</td>\n",
       "      <td>republican</td>\n",
       "    </tr>\n",
       "    <tr>\n",
       "      <th>Bill Clinton</th>\n",
       "      <td>42</td>\n",
       "      <td>46</td>\n",
       "      <td>188</td>\n",
       "      <td>democratic</td>\n",
       "    </tr>\n",
       "    <tr>\n",
       "      <th>George W. Bush</th>\n",
       "      <td>43</td>\n",
       "      <td>54</td>\n",
       "      <td>182</td>\n",
       "      <td>republican</td>\n",
       "    </tr>\n",
       "    <tr>\n",
       "      <th>Barack Obama</th>\n",
       "      <td>44</td>\n",
       "      <td>47</td>\n",
       "      <td>185</td>\n",
       "      <td>democratic</td>\n",
       "    </tr>\n",
       "    <tr>\n",
       "      <th>Donald J. Trump</th>\n",
       "      <td>45</td>\n",
       "      <td>70</td>\n",
       "      <td>191</td>\n",
       "      <td>republican</td>\n",
       "    </tr>\n",
       "  </tbody>\n",
       "</table>\n",
       "</div>"
      ],
      "text/plain": [
       "                        order  age  height                  party\n",
       "name                                                             \n",
       "George Washington           1   57     189                   none\n",
       "John Adams                  2   61     170             federalist\n",
       "Thomas Jefferson            3   57     189  democratic-republican\n",
       "James Madison               4   57     163  democratic-republican\n",
       "James Monroe                5   58     183  democratic-republican\n",
       "John Quincy Adams           6   57     171  democratic-republican\n",
       "Andrew Jackson              7   61     185             democratic\n",
       "Martin Van Buren            8   54     168             democratic\n",
       "William Henry Harrison      9   68     173                   whig\n",
       "John Tyler                 10   51     183                   whig\n",
       "James K. Polk              11   49     173             democratic\n",
       "Zachary Taylor             12   64     173                   whig\n",
       "Millard Fillmore           13   50     175                   whig\n",
       "Franklin Pierce            14   48     178             democratic\n",
       "James Buchanan             15   65     183             democratic\n",
       "Abraham Lincoln            16   52     193             republican\n",
       "Andrew Johnson             17   56     178         national union\n",
       "Ulysses S. Grant           18   46     173             republican\n",
       "Rutherford B. Hayes        19   54     174             republican\n",
       "James A. Garfield          20   49     183             republican\n",
       "Chester A. Arthur          21   51     183             republican\n",
       "Grover Cleveland           22   47     180             democratic\n",
       "Benjamin Harrison          23   55     168             republican\n",
       "Grover Cleveland           25   55     180             democratic\n",
       "William McKinley           25   54     170             republican\n",
       "Theodore Roosevelt         26   42     178             republican\n",
       "William Howard Taft        27   51     182             republican\n",
       "Woodrow Wilson             28   56     180             democratic\n",
       "Warren G. Harding          29   55     183             republican\n",
       "Calvin Coolidge            30   51     178             republican\n",
       "Herbert Hoover             31   54     182             republican\n",
       "Franklin D. Roosevelt      32   51     188             democratic\n",
       "Harry S. Truman            33   60     175             democratic\n",
       "Dwight D. Eisenhower       34   62     179             republican\n",
       "John F. Kennedy            35   43     183             democratic\n",
       "Lyndon B. Johnson          36   55     193             democratic\n",
       "Richard Nixon              37   56     182             republican\n",
       "Gerald Ford                38   61     183             republican\n",
       "Jimmy Carter               39   52     177             democratic\n",
       "Ronald Reagan              40   69     185             republican\n",
       "George H. W. Bush          41   64     188             republican\n",
       "Bill Clinton               42   46     188             democratic\n",
       "George W. Bush             43   54     182             republican\n",
       "Barack Obama               44   47     185             democratic\n",
       "Donald J. Trump            45   70     191             republican"
      ]
     },
     "execution_count": 5,
     "metadata": {},
     "output_type": "execute_result"
    }
   ],
   "source": [
    "presidents_df"
   ]
  },
  {
   "cell_type": "code",
   "execution_count": 6,
   "id": "701f3b6d-ed93-4300-a09b-bd0418f7b3de",
   "metadata": {},
   "outputs": [
    {
     "data": {
      "text/plain": [
       "(45, 4)"
      ]
     },
     "execution_count": 6,
     "metadata": {},
     "output_type": "execute_result"
    }
   ],
   "source": [
    "presidents_df.shape"
   ]
  },
  {
   "cell_type": "code",
   "execution_count": 7,
   "id": "0a597214-9878-4a90-af40-ea9979c6bed2",
   "metadata": {},
   "outputs": [
    {
     "data": {
      "text/plain": [
       "180"
      ]
     },
     "execution_count": 7,
     "metadata": {},
     "output_type": "execute_result"
    }
   ],
   "source": [
    "presidents_df.size"
   ]
  },
  {
   "cell_type": "code",
   "execution_count": 8,
   "id": "c57a183e-dc1c-4bb4-8d74-51f315c373a5",
   "metadata": {},
   "outputs": [
    {
     "name": "stdout",
     "output_type": "stream",
     "text": [
      "<class 'pandas.core.frame.DataFrame'>\n",
      "Index: 45 entries, George Washington to Donald J. Trump\n",
      "Data columns (total 4 columns):\n",
      " #   Column  Non-Null Count  Dtype \n",
      "---  ------  --------------  ----- \n",
      " 0   order   45 non-null     int64 \n",
      " 1   age     45 non-null     int64 \n",
      " 2   height  45 non-null     int64 \n",
      " 3   party   45 non-null     object\n",
      "dtypes: int64(3), object(1)\n",
      "memory usage: 2.8+ KB\n"
     ]
    }
   ],
   "source": [
    "presidents_df.info()"
   ]
  },
  {
   "cell_type": "code",
   "execution_count": null,
   "id": "5609a609-77d4-4b0c-9728-f16ac6a5e9f7",
   "metadata": {},
   "outputs": [],
   "source": []
  },
  {
   "cell_type": "code",
   "execution_count": 9,
   "id": "5054c27b-9f9e-4446-82b0-9b7909f352e1",
   "metadata": {},
   "outputs": [
    {
     "data": {
      "text/plain": [
       "(4,)"
      ]
     },
     "execution_count": 9,
     "metadata": {},
     "output_type": "execute_result"
    }
   ],
   "source": [
    "presidents_df.loc[\"Barack Obama\"].shape"
   ]
  },
  {
   "cell_type": "code",
   "execution_count": 10,
   "id": "cd14cba1-eca8-48c8-ae98-cb2336df7f43",
   "metadata": {},
   "outputs": [
    {
     "data": {
      "text/html": [
       "<div>\n",
       "<style scoped>\n",
       "    .dataframe tbody tr th:only-of-type {\n",
       "        vertical-align: middle;\n",
       "    }\n",
       "\n",
       "    .dataframe tbody tr th {\n",
       "        vertical-align: top;\n",
       "    }\n",
       "\n",
       "    .dataframe thead th {\n",
       "        text-align: right;\n",
       "    }\n",
       "</style>\n",
       "<table border=\"1\" class=\"dataframe\">\n",
       "  <thead>\n",
       "    <tr style=\"text-align: right;\">\n",
       "      <th></th>\n",
       "      <th>order</th>\n",
       "      <th>age</th>\n",
       "      <th>height</th>\n",
       "      <th>party</th>\n",
       "    </tr>\n",
       "    <tr>\n",
       "      <th>name</th>\n",
       "      <th></th>\n",
       "      <th></th>\n",
       "      <th></th>\n",
       "      <th></th>\n",
       "    </tr>\n",
       "  </thead>\n",
       "  <tbody>\n",
       "    <tr>\n",
       "      <th>George Washington</th>\n",
       "      <td>1</td>\n",
       "      <td>57</td>\n",
       "      <td>189</td>\n",
       "      <td>none</td>\n",
       "    </tr>\n",
       "    <tr>\n",
       "      <th>John Adams</th>\n",
       "      <td>2</td>\n",
       "      <td>61</td>\n",
       "      <td>170</td>\n",
       "      <td>federalist</td>\n",
       "    </tr>\n",
       "    <tr>\n",
       "      <th>Thomas Jefferson</th>\n",
       "      <td>3</td>\n",
       "      <td>57</td>\n",
       "      <td>189</td>\n",
       "      <td>democratic-republican</td>\n",
       "    </tr>\n",
       "    <tr>\n",
       "      <th>James Madison</th>\n",
       "      <td>4</td>\n",
       "      <td>57</td>\n",
       "      <td>163</td>\n",
       "      <td>democratic-republican</td>\n",
       "    </tr>\n",
       "    <tr>\n",
       "      <th>James Monroe</th>\n",
       "      <td>5</td>\n",
       "      <td>58</td>\n",
       "      <td>183</td>\n",
       "      <td>democratic-republican</td>\n",
       "    </tr>\n",
       "  </tbody>\n",
       "</table>\n",
       "</div>"
      ],
      "text/plain": [
       "                   order  age  height                  party\n",
       "name                                                        \n",
       "George Washington      1   57     189                   none\n",
       "John Adams             2   61     170             federalist\n",
       "Thomas Jefferson       3   57     189  democratic-republican\n",
       "James Madison          4   57     163  democratic-republican\n",
       "James Monroe           5   58     183  democratic-republican"
      ]
     },
     "execution_count": 10,
     "metadata": {},
     "output_type": "execute_result"
    }
   ],
   "source": [
    "presidents_df.head()"
   ]
  },
  {
   "cell_type": "code",
   "execution_count": 11,
   "id": "d42affbb-c484-4e89-96fa-baad807e0ceb",
   "metadata": {},
   "outputs": [
    {
     "data": {
      "text/html": [
       "<div>\n",
       "<style scoped>\n",
       "    .dataframe tbody tr th:only-of-type {\n",
       "        vertical-align: middle;\n",
       "    }\n",
       "\n",
       "    .dataframe tbody tr th {\n",
       "        vertical-align: top;\n",
       "    }\n",
       "\n",
       "    .dataframe thead th {\n",
       "        text-align: right;\n",
       "    }\n",
       "</style>\n",
       "<table border=\"1\" class=\"dataframe\">\n",
       "  <thead>\n",
       "    <tr style=\"text-align: right;\">\n",
       "      <th></th>\n",
       "      <th>order</th>\n",
       "      <th>age</th>\n",
       "      <th>height</th>\n",
       "      <th>party</th>\n",
       "    </tr>\n",
       "    <tr>\n",
       "      <th>name</th>\n",
       "      <th></th>\n",
       "      <th></th>\n",
       "      <th></th>\n",
       "      <th></th>\n",
       "    </tr>\n",
       "  </thead>\n",
       "  <tbody>\n",
       "    <tr>\n",
       "      <th>John Adams</th>\n",
       "      <td>2</td>\n",
       "      <td>61</td>\n",
       "      <td>170</td>\n",
       "      <td>federalist</td>\n",
       "    </tr>\n",
       "    <tr>\n",
       "      <th>Thomas Jefferson</th>\n",
       "      <td>3</td>\n",
       "      <td>57</td>\n",
       "      <td>189</td>\n",
       "      <td>democratic-republican</td>\n",
       "    </tr>\n",
       "    <tr>\n",
       "      <th>James Madison</th>\n",
       "      <td>4</td>\n",
       "      <td>57</td>\n",
       "      <td>163</td>\n",
       "      <td>democratic-republican</td>\n",
       "    </tr>\n",
       "  </tbody>\n",
       "</table>\n",
       "</div>"
      ],
      "text/plain": [
       "                  order  age  height                  party\n",
       "name                                                       \n",
       "John Adams            2   61     170             federalist\n",
       "Thomas Jefferson      3   57     189  democratic-republican\n",
       "James Madison         4   57     163  democratic-republican"
      ]
     },
     "execution_count": 11,
     "metadata": {},
     "output_type": "execute_result"
    }
   ],
   "source": [
    "presidents_df.loc[\"John Adams\":\"James Madison\"]"
   ]
  },
  {
   "cell_type": "code",
   "execution_count": 12,
   "id": "2fc7fbd3-6fff-4102-9510-503c470d8812",
   "metadata": {},
   "outputs": [
    {
     "name": "stdout",
     "output_type": "stream",
     "text": [
      "order             16\n",
      "age               52\n",
      "height           193\n",
      "party     republican\n",
      "Name: Abraham Lincoln, dtype: object\n"
     ]
    }
   ],
   "source": [
    "print(presidents_df.iloc[15])"
   ]
  },
  {
   "cell_type": "code",
   "execution_count": 13,
   "id": "5daffd1a-2908-43f7-9735-2cbeda64184f",
   "metadata": {},
   "outputs": [
    {
     "name": "stdout",
     "output_type": "stream",
     "text": [
      "                  order  age  height           party\n",
      "name                                                \n",
      "Abraham Lincoln      16   52     193      republican\n",
      "Andrew Johnson       17   56     178  national union\n",
      "Ulysses S. Grant     18   46     173      republican\n"
     ]
    }
   ],
   "source": [
    "print(presidents_df.iloc[15:18])"
   ]
  },
  {
   "cell_type": "code",
   "execution_count": 14,
   "id": "3bc2ed12-5b58-4042-bce0-aa68bc4b43bd",
   "metadata": {},
   "outputs": [
    {
     "name": "stdout",
     "output_type": "stream",
     "text": [
      "name\n",
      "George Washington         189\n",
      "John Adams                170\n",
      "Thomas Jefferson          189\n",
      "James Madison             163\n",
      "James Monroe              183\n",
      "John Quincy Adams         171\n",
      "Andrew Jackson            185\n",
      "Martin Van Buren          168\n",
      "William Henry Harrison    173\n",
      "John Tyler                183\n",
      "James K. Polk             173\n",
      "Zachary Taylor            173\n",
      "Millard Fillmore          175\n",
      "Franklin Pierce           178\n",
      "James Buchanan            183\n",
      "Abraham Lincoln           193\n",
      "Andrew Johnson            178\n",
      "Ulysses S. Grant          173\n",
      "Rutherford B. Hayes       174\n",
      "James A. Garfield         183\n",
      "Chester A. Arthur         183\n",
      "Grover Cleveland          180\n",
      "Benjamin Harrison         168\n",
      "Grover Cleveland          180\n",
      "William McKinley          170\n",
      "Theodore Roosevelt        178\n",
      "William Howard Taft       182\n",
      "Woodrow Wilson            180\n",
      "Warren G. Harding         183\n",
      "Calvin Coolidge           178\n",
      "Herbert Hoover            182\n",
      "Franklin D. Roosevelt     188\n",
      "Harry S. Truman           175\n",
      "Dwight D. Eisenhower      179\n",
      "John F. Kennedy           183\n",
      "Lyndon B. Johnson         193\n",
      "Richard Nixon             182\n",
      "Gerald Ford               183\n",
      "Jimmy Carter              177\n",
      "Ronald Reagan             185\n",
      "George H. W. Bush         188\n",
      "Bill Clinton              188\n",
      "George W. Bush            182\n",
      "Barack Obama              185\n",
      "Donald J. Trump           191\n",
      "Name: height, dtype: int64\n"
     ]
    }
   ],
   "source": [
    "print(presidents_df['height'])"
   ]
  },
  {
   "cell_type": "code",
   "execution_count": 15,
   "id": "a6530bb9-7fe6-4fbe-8146-a9bcb2a82c76",
   "metadata": {},
   "outputs": [
    {
     "name": "stdout",
     "output_type": "stream",
     "text": [
      "(45,)\n"
     ]
    }
   ],
   "source": [
    "print(presidents_df['height'].shape)"
   ]
  },
  {
   "cell_type": "code",
   "execution_count": 16,
   "id": "fa8def65-0e70-47dc-88aa-e8493e9a4349",
   "metadata": {},
   "outputs": [
    {
     "name": "stdout",
     "output_type": "stream",
     "text": [
      "(45,)\n"
     ]
    }
   ],
   "source": [
    "print(presidents_df['party'].shape)"
   ]
  },
  {
   "cell_type": "code",
   "execution_count": 17,
   "id": "42ad8455-d16f-4540-911e-dc1c6306242c",
   "metadata": {},
   "outputs": [
    {
     "name": "stdout",
     "output_type": "stream",
     "text": [
      "name\n",
      "George Washington                          none\n",
      "John Adams                           federalist\n",
      "Thomas Jefferson          democratic-republican\n",
      "James Madison             democratic-republican\n",
      "James Monroe              democratic-republican\n",
      "John Quincy Adams         democratic-republican\n",
      "Andrew Jackson                       democratic\n",
      "Martin Van Buren                     democratic\n",
      "William Henry Harrison                     whig\n",
      "John Tyler                                 whig\n",
      "James K. Polk                        democratic\n",
      "Zachary Taylor                             whig\n",
      "Millard Fillmore                           whig\n",
      "Franklin Pierce                      democratic\n",
      "James Buchanan                       democratic\n",
      "Abraham Lincoln                      republican\n",
      "Andrew Johnson                   national union\n",
      "Ulysses S. Grant                     republican\n",
      "Rutherford B. Hayes                  republican\n",
      "James A. Garfield                    republican\n",
      "Chester A. Arthur                    republican\n",
      "Grover Cleveland                     democratic\n",
      "Benjamin Harrison                    republican\n",
      "Grover Cleveland                     democratic\n",
      "William McKinley                     republican\n",
      "Theodore Roosevelt                   republican\n",
      "William Howard Taft                  republican\n",
      "Woodrow Wilson                       democratic\n",
      "Warren G. Harding                    republican\n",
      "Calvin Coolidge                      republican\n",
      "Herbert Hoover                       republican\n",
      "Franklin D. Roosevelt                democratic\n",
      "Harry S. Truman                      democratic\n",
      "Dwight D. Eisenhower                 republican\n",
      "John F. Kennedy                      democratic\n",
      "Lyndon B. Johnson                    democratic\n",
      "Richard Nixon                        republican\n",
      "Gerald Ford                          republican\n",
      "Jimmy Carter                         democratic\n",
      "Ronald Reagan                        republican\n",
      "George H. W. Bush                    republican\n",
      "Bill Clinton                         democratic\n",
      "George W. Bush                       republican\n",
      "Barack Obama                         democratic\n",
      "Donald J. Trump                      republican\n",
      "Name: party, dtype: object\n"
     ]
    }
   ],
   "source": [
    "print(presidents_df['party'])"
   ]
  },
  {
   "cell_type": "code",
   "execution_count": 18,
   "id": "f4242a37-5d39-4df4-bd2d-f9cb86c96a97",
   "metadata": {},
   "outputs": [
    {
     "name": "stdout",
     "output_type": "stream",
     "text": [
      "                        height  age\n",
      "name                               \n",
      "George Washington          189   57\n",
      "John Adams                 170   61\n",
      "Thomas Jefferson           189   57\n",
      "James Madison              163   57\n",
      "James Monroe               183   58\n",
      "John Quincy Adams          171   57\n",
      "Andrew Jackson             185   61\n",
      "Martin Van Buren           168   54\n",
      "William Henry Harrison     173   68\n",
      "John Tyler                 183   51\n"
     ]
    }
   ],
   "source": [
    "print(presidents_df[['height','age']].head(n=10))"
   ]
  },
  {
   "cell_type": "code",
   "execution_count": 19,
   "id": "e5807cee-f76a-4f53-bc72-6e304307eb75",
   "metadata": {},
   "outputs": [
    {
     "data": {
      "text/plain": [
       "np.float64(55.0)"
      ]
     },
     "execution_count": 19,
     "metadata": {},
     "output_type": "execute_result"
    }
   ],
   "source": [
    "presidents_df[\"age\"].mean()"
   ]
  },
  {
   "cell_type": "code",
   "execution_count": 20,
   "id": "e4fb267d-9c59-4577-84d0-e3f4e2d5dc5c",
   "metadata": {},
   "outputs": [
    {
     "data": {
      "text/plain": [
       "0.25    51.0\n",
       "0.50    55.0\n",
       "0.75    58.0\n",
       "1.00    70.0\n",
       "Name: age, dtype: float64"
      ]
     },
     "execution_count": 20,
     "metadata": {},
     "output_type": "execute_result"
    }
   ],
   "source": [
    "presidents_df['age'].quantile([0.25, 0.5, 0.75, 1])"
   ]
  },
  {
   "cell_type": "code",
   "execution_count": 21,
   "id": "8d15d94e-5085-4719-a587-9d55b0dc1a69",
   "metadata": {},
   "outputs": [
    {
     "data": {
      "text/plain": [
       "np.float64(55.0)"
      ]
     },
     "execution_count": 21,
     "metadata": {},
     "output_type": "execute_result"
    }
   ],
   "source": [
    "presidents_df[\"age\"].mean()"
   ]
  },
  {
   "cell_type": "code",
   "execution_count": 22,
   "id": "59b4c537-ebb7-4999-bdac-2ba7a637524a",
   "metadata": {},
   "outputs": [
    {
     "data": {
      "text/plain": [
       "np.float64(55.0)"
      ]
     },
     "execution_count": 22,
     "metadata": {},
     "output_type": "execute_result"
    }
   ],
   "source": [
    "presidents_df[\"age\"].median()"
   ]
  },
  {
   "cell_type": "code",
   "execution_count": 23,
   "id": "b0c66399-9c23-4d55-9a00-a93971c37765",
   "metadata": {},
   "outputs": [],
   "source": [
    "temp = pd.Series([1, 2, 4, 2, 4, 1])"
   ]
  },
  {
   "cell_type": "code",
   "execution_count": 24,
   "id": "dd8e1906-e781-4f96-86be-e5b35bbddfe2",
   "metadata": {},
   "outputs": [
    {
     "data": {
      "text/plain": [
       "np.float64(2.0)"
      ]
     },
     "execution_count": 24,
     "metadata": {},
     "output_type": "execute_result"
    }
   ],
   "source": [
    "temp.median()"
   ]
  },
  {
   "cell_type": "code",
   "execution_count": 25,
   "id": "102d5dbf-7ec1-489f-961d-18cafaa096e7",
   "metadata": {},
   "outputs": [],
   "source": [
    "variance = presidents_df['height'].var()"
   ]
  },
  {
   "cell_type": "code",
   "execution_count": 26,
   "id": "4806529e-cd52-40d4-b5ab-41ee51742f11",
   "metadata": {},
   "outputs": [
    {
     "name": "stdout",
     "output_type": "stream",
     "text": [
      "Variance: 48.68\n"
     ]
    }
   ],
   "source": [
    "variance = presidents_df['height'].var()\n",
    "print(f\"Variance: {variance.round(2)}\")"
   ]
  },
  {
   "cell_type": "code",
   "execution_count": 27,
   "id": "e1174730-09ac-4ecd-a6c1-d31880d2ce3e",
   "metadata": {},
   "outputs": [
    {
     "name": "stdout",
     "output_type": "stream",
     "text": [
      "Standard Deviation: 6.98\n"
     ]
    }
   ],
   "source": [
    "std_dev = presidents_df['height'].std()\n",
    "print(f\"Standard Deviation: {std_dev.round(2)}\")"
   ]
  },
  {
   "cell_type": "code",
   "execution_count": 28,
   "id": "481501a8-c6af-4f15-9799-505db5738e7c",
   "metadata": {},
   "outputs": [
    {
     "data": {
      "text/plain": [
       "party                \n",
       "republican               19\n",
       "democratic               15\n",
       "democratic-republican     4\n",
       "whig                      4\n",
       "federalist                1\n",
       "none                      1\n",
       "national union            1\n",
       "Name: count, dtype: int64"
      ]
     },
     "execution_count": 28,
     "metadata": {},
     "output_type": "execute_result"
    }
   ],
   "source": [
    "presidents_df[[\"party\"]].value_counts()"
   ]
  },
  {
   "cell_type": "code",
   "execution_count": 29,
   "id": "fd837eb0-87a5-43dc-9d8d-43b9fce505af",
   "metadata": {},
   "outputs": [
    {
     "name": "stdout",
     "output_type": "stream",
     "text": [
      "count             45\n",
      "unique             7\n",
      "top       republican\n",
      "freq              19\n",
      "Name: party, dtype: object\n"
     ]
    }
   ],
   "source": [
    "print(presidents_df['party'].describe())"
   ]
  },
  {
   "cell_type": "code",
   "execution_count": 30,
   "id": "3c14f9f9-9540-4bb6-b2cb-715b433017b4",
   "metadata": {},
   "outputs": [],
   "source": [
    "party_groupby = presidents_df.groupby('party')"
   ]
  },
  {
   "cell_type": "code",
   "execution_count": 31,
   "id": "d4b2d56e-853a-40d9-aa44-e7f9e038c536",
   "metadata": {},
   "outputs": [
    {
     "data": {
      "text/html": [
       "<div>\n",
       "<style scoped>\n",
       "    .dataframe tbody tr th:only-of-type {\n",
       "        vertical-align: middle;\n",
       "    }\n",
       "\n",
       "    .dataframe tbody tr th {\n",
       "        vertical-align: top;\n",
       "    }\n",
       "\n",
       "    .dataframe thead th {\n",
       "        text-align: right;\n",
       "    }\n",
       "</style>\n",
       "<table border=\"1\" class=\"dataframe\">\n",
       "  <thead>\n",
       "    <tr style=\"text-align: right;\">\n",
       "      <th></th>\n",
       "      <th>order</th>\n",
       "      <th>age</th>\n",
       "      <th>height</th>\n",
       "    </tr>\n",
       "    <tr>\n",
       "      <th>party</th>\n",
       "      <th></th>\n",
       "      <th></th>\n",
       "      <th></th>\n",
       "    </tr>\n",
       "  </thead>\n",
       "  <tbody>\n",
       "    <tr>\n",
       "      <th>democratic</th>\n",
       "      <td>26.066667</td>\n",
       "      <td>52.600000</td>\n",
       "      <td>181.066667</td>\n",
       "    </tr>\n",
       "    <tr>\n",
       "      <th>democratic-republican</th>\n",
       "      <td>4.500000</td>\n",
       "      <td>57.250000</td>\n",
       "      <td>176.500000</td>\n",
       "    </tr>\n",
       "    <tr>\n",
       "      <th>federalist</th>\n",
       "      <td>2.000000</td>\n",
       "      <td>61.000000</td>\n",
       "      <td>170.000000</td>\n",
       "    </tr>\n",
       "    <tr>\n",
       "      <th>national union</th>\n",
       "      <td>17.000000</td>\n",
       "      <td>56.000000</td>\n",
       "      <td>178.000000</td>\n",
       "    </tr>\n",
       "    <tr>\n",
       "      <th>none</th>\n",
       "      <td>1.000000</td>\n",
       "      <td>57.000000</td>\n",
       "      <td>189.000000</td>\n",
       "    </tr>\n",
       "    <tr>\n",
       "      <th>republican</th>\n",
       "      <td>29.631579</td>\n",
       "      <td>55.263158</td>\n",
       "      <td>180.894737</td>\n",
       "    </tr>\n",
       "    <tr>\n",
       "      <th>whig</th>\n",
       "      <td>11.000000</td>\n",
       "      <td>58.250000</td>\n",
       "      <td>176.000000</td>\n",
       "    </tr>\n",
       "  </tbody>\n",
       "</table>\n",
       "</div>"
      ],
      "text/plain": [
       "                           order        age      height\n",
       "party                                                  \n",
       "democratic             26.066667  52.600000  181.066667\n",
       "democratic-republican   4.500000  57.250000  176.500000\n",
       "federalist              2.000000  61.000000  170.000000\n",
       "national union         17.000000  56.000000  178.000000\n",
       "none                    1.000000  57.000000  189.000000\n",
       "republican             29.631579  55.263158  180.894737\n",
       "whig                   11.000000  58.250000  176.000000"
      ]
     },
     "execution_count": 31,
     "metadata": {},
     "output_type": "execute_result"
    }
   ],
   "source": [
    "party_groupby.mean()"
   ]
  },
  {
   "cell_type": "code",
   "execution_count": 32,
   "id": "93fd8e61-19a3-4f33-adf4-b6a597ace8ab",
   "metadata": {},
   "outputs": [
    {
     "data": {
      "text/html": [
       "<div>\n",
       "<style scoped>\n",
       "    .dataframe tbody tr th:only-of-type {\n",
       "        vertical-align: middle;\n",
       "    }\n",
       "\n",
       "    .dataframe tbody tr th {\n",
       "        vertical-align: top;\n",
       "    }\n",
       "\n",
       "    .dataframe thead th {\n",
       "        text-align: right;\n",
       "    }\n",
       "</style>\n",
       "<table border=\"1\" class=\"dataframe\">\n",
       "  <thead>\n",
       "    <tr style=\"text-align: right;\">\n",
       "      <th></th>\n",
       "      <th>order</th>\n",
       "      <th>age</th>\n",
       "      <th>height</th>\n",
       "    </tr>\n",
       "    <tr>\n",
       "      <th>party</th>\n",
       "      <th></th>\n",
       "      <th></th>\n",
       "      <th></th>\n",
       "    </tr>\n",
       "  </thead>\n",
       "  <tbody>\n",
       "    <tr>\n",
       "      <th>democratic</th>\n",
       "      <td>12.566774</td>\n",
       "      <td>6.208289</td>\n",
       "      <td>6.430582</td>\n",
       "    </tr>\n",
       "    <tr>\n",
       "      <th>democratic-republican</th>\n",
       "      <td>1.290994</td>\n",
       "      <td>0.500000</td>\n",
       "      <td>11.704700</td>\n",
       "    </tr>\n",
       "    <tr>\n",
       "      <th>federalist</th>\n",
       "      <td>NaN</td>\n",
       "      <td>NaN</td>\n",
       "      <td>NaN</td>\n",
       "    </tr>\n",
       "    <tr>\n",
       "      <th>national union</th>\n",
       "      <td>NaN</td>\n",
       "      <td>NaN</td>\n",
       "      <td>NaN</td>\n",
       "    </tr>\n",
       "    <tr>\n",
       "      <th>none</th>\n",
       "      <td>NaN</td>\n",
       "      <td>NaN</td>\n",
       "      <td>NaN</td>\n",
       "    </tr>\n",
       "    <tr>\n",
       "      <th>republican</th>\n",
       "      <td>9.081180</td>\n",
       "      <td>7.202176</td>\n",
       "      <td>6.471259</td>\n",
       "    </tr>\n",
       "    <tr>\n",
       "      <th>whig</th>\n",
       "      <td>1.825742</td>\n",
       "      <td>9.105859</td>\n",
       "      <td>4.760952</td>\n",
       "    </tr>\n",
       "  </tbody>\n",
       "</table>\n",
       "</div>"
      ],
      "text/plain": [
       "                           order       age     height\n",
       "party                                                \n",
       "democratic             12.566774  6.208289   6.430582\n",
       "democratic-republican   1.290994  0.500000  11.704700\n",
       "federalist                   NaN       NaN        NaN\n",
       "national union               NaN       NaN        NaN\n",
       "none                         NaN       NaN        NaN\n",
       "republican              9.081180  7.202176   6.471259\n",
       "whig                    1.825742  9.105859   4.760952"
      ]
     },
     "execution_count": 32,
     "metadata": {},
     "output_type": "execute_result"
    }
   ],
   "source": [
    "party_groupby.std()"
   ]
  },
  {
   "cell_type": "code",
   "execution_count": 33,
   "id": "6274257e-8423-4e4a-9dc7-3fc62a730df2",
   "metadata": {},
   "outputs": [
    {
     "data": {
      "text/html": [
       "<div>\n",
       "<style scoped>\n",
       "    .dataframe tbody tr th:only-of-type {\n",
       "        vertical-align: middle;\n",
       "    }\n",
       "\n",
       "    .dataframe tbody tr th {\n",
       "        vertical-align: top;\n",
       "    }\n",
       "\n",
       "    .dataframe thead th {\n",
       "        text-align: right;\n",
       "    }\n",
       "</style>\n",
       "<table border=\"1\" class=\"dataframe\">\n",
       "  <thead>\n",
       "    <tr style=\"text-align: right;\">\n",
       "      <th></th>\n",
       "      <th>order</th>\n",
       "      <th>age</th>\n",
       "      <th>height</th>\n",
       "    </tr>\n",
       "    <tr>\n",
       "      <th>party</th>\n",
       "      <th></th>\n",
       "      <th></th>\n",
       "      <th></th>\n",
       "    </tr>\n",
       "  </thead>\n",
       "  <tbody>\n",
       "    <tr>\n",
       "      <th>democratic</th>\n",
       "      <td>28.0</td>\n",
       "      <td>52.0</td>\n",
       "      <td>180.0</td>\n",
       "    </tr>\n",
       "    <tr>\n",
       "      <th>democratic-republican</th>\n",
       "      <td>4.5</td>\n",
       "      <td>57.0</td>\n",
       "      <td>177.0</td>\n",
       "    </tr>\n",
       "    <tr>\n",
       "      <th>federalist</th>\n",
       "      <td>2.0</td>\n",
       "      <td>61.0</td>\n",
       "      <td>170.0</td>\n",
       "    </tr>\n",
       "    <tr>\n",
       "      <th>national union</th>\n",
       "      <td>17.0</td>\n",
       "      <td>56.0</td>\n",
       "      <td>178.0</td>\n",
       "    </tr>\n",
       "    <tr>\n",
       "      <th>none</th>\n",
       "      <td>1.0</td>\n",
       "      <td>57.0</td>\n",
       "      <td>189.0</td>\n",
       "    </tr>\n",
       "    <tr>\n",
       "      <th>republican</th>\n",
       "      <td>29.0</td>\n",
       "      <td>54.0</td>\n",
       "      <td>182.0</td>\n",
       "    </tr>\n",
       "    <tr>\n",
       "      <th>whig</th>\n",
       "      <td>11.0</td>\n",
       "      <td>57.5</td>\n",
       "      <td>174.0</td>\n",
       "    </tr>\n",
       "  </tbody>\n",
       "</table>\n",
       "</div>"
      ],
      "text/plain": [
       "                       order   age  height\n",
       "party                                     \n",
       "democratic              28.0  52.0   180.0\n",
       "democratic-republican    4.5  57.0   177.0\n",
       "federalist               2.0  61.0   170.0\n",
       "national union          17.0  56.0   178.0\n",
       "none                     1.0  57.0   189.0\n",
       "republican              29.0  54.0   182.0\n",
       "whig                    11.0  57.5   174.0"
      ]
     },
     "execution_count": 33,
     "metadata": {},
     "output_type": "execute_result"
    }
   ],
   "source": [
    "party_groupby.median()"
   ]
  },
  {
   "cell_type": "code",
   "execution_count": 34,
   "id": "e94c806b-52cd-4005-92f8-5554475297a4",
   "metadata": {},
   "outputs": [
    {
     "data": {
      "text/html": [
       "<div>\n",
       "<style scoped>\n",
       "    .dataframe tbody tr th:only-of-type {\n",
       "        vertical-align: middle;\n",
       "    }\n",
       "\n",
       "    .dataframe tbody tr th {\n",
       "        vertical-align: top;\n",
       "    }\n",
       "\n",
       "    .dataframe thead th {\n",
       "        text-align: right;\n",
       "    }\n",
       "</style>\n",
       "<table border=\"1\" class=\"dataframe\">\n",
       "  <thead>\n",
       "    <tr style=\"text-align: right;\">\n",
       "      <th></th>\n",
       "      <th>min</th>\n",
       "      <th>max</th>\n",
       "      <th>median</th>\n",
       "    </tr>\n",
       "    <tr>\n",
       "      <th>party</th>\n",
       "      <th></th>\n",
       "      <th></th>\n",
       "      <th></th>\n",
       "    </tr>\n",
       "  </thead>\n",
       "  <tbody>\n",
       "    <tr>\n",
       "      <th>democratic</th>\n",
       "      <td>168</td>\n",
       "      <td>193</td>\n",
       "      <td>180.0</td>\n",
       "    </tr>\n",
       "    <tr>\n",
       "      <th>democratic-republican</th>\n",
       "      <td>163</td>\n",
       "      <td>189</td>\n",
       "      <td>177.0</td>\n",
       "    </tr>\n",
       "    <tr>\n",
       "      <th>federalist</th>\n",
       "      <td>170</td>\n",
       "      <td>170</td>\n",
       "      <td>170.0</td>\n",
       "    </tr>\n",
       "    <tr>\n",
       "      <th>national union</th>\n",
       "      <td>178</td>\n",
       "      <td>178</td>\n",
       "      <td>178.0</td>\n",
       "    </tr>\n",
       "    <tr>\n",
       "      <th>none</th>\n",
       "      <td>189</td>\n",
       "      <td>189</td>\n",
       "      <td>189.0</td>\n",
       "    </tr>\n",
       "    <tr>\n",
       "      <th>republican</th>\n",
       "      <td>168</td>\n",
       "      <td>193</td>\n",
       "      <td>182.0</td>\n",
       "    </tr>\n",
       "    <tr>\n",
       "      <th>whig</th>\n",
       "      <td>173</td>\n",
       "      <td>183</td>\n",
       "      <td>174.0</td>\n",
       "    </tr>\n",
       "  </tbody>\n",
       "</table>\n",
       "</div>"
      ],
      "text/plain": [
       "                       min  max  median\n",
       "party                                  \n",
       "democratic             168  193   180.0\n",
       "democratic-republican  163  189   177.0\n",
       "federalist             170  170   170.0\n",
       "national union         178  178   178.0\n",
       "none                   189  189   189.0\n",
       "republican             168  193   182.0\n",
       "whig                   173  183   174.0"
      ]
     },
     "execution_count": 34,
     "metadata": {},
     "output_type": "execute_result"
    }
   ],
   "source": [
    "party_groupby['height'].agg([\"min\", \"max\",\"median\"])"
   ]
  },
  {
   "cell_type": "code",
   "execution_count": 35,
   "id": "b36e5421-03d8-400e-bc01-7cca126c9219",
   "metadata": {},
   "outputs": [
    {
     "data": {
      "text/html": [
       "<div>\n",
       "<style scoped>\n",
       "    .dataframe tbody tr th:only-of-type {\n",
       "        vertical-align: middle;\n",
       "    }\n",
       "\n",
       "    .dataframe tbody tr th {\n",
       "        vertical-align: top;\n",
       "    }\n",
       "\n",
       "    .dataframe thead tr th {\n",
       "        text-align: left;\n",
       "    }\n",
       "\n",
       "    .dataframe thead tr:last-of-type th {\n",
       "        text-align: right;\n",
       "    }\n",
       "</style>\n",
       "<table border=\"1\" class=\"dataframe\">\n",
       "  <thead>\n",
       "    <tr>\n",
       "      <th></th>\n",
       "      <th>height</th>\n",
       "      <th colspan=\"3\" halign=\"left\">age</th>\n",
       "    </tr>\n",
       "    <tr>\n",
       "      <th></th>\n",
       "      <th>median</th>\n",
       "      <th>min</th>\n",
       "      <th>max</th>\n",
       "      <th>std</th>\n",
       "    </tr>\n",
       "    <tr>\n",
       "      <th>party</th>\n",
       "      <th></th>\n",
       "      <th></th>\n",
       "      <th></th>\n",
       "      <th></th>\n",
       "    </tr>\n",
       "  </thead>\n",
       "  <tbody>\n",
       "    <tr>\n",
       "      <th>democratic</th>\n",
       "      <td>180.0</td>\n",
       "      <td>43</td>\n",
       "      <td>65</td>\n",
       "      <td>6.208289</td>\n",
       "    </tr>\n",
       "    <tr>\n",
       "      <th>democratic-republican</th>\n",
       "      <td>177.0</td>\n",
       "      <td>57</td>\n",
       "      <td>58</td>\n",
       "      <td>0.500000</td>\n",
       "    </tr>\n",
       "    <tr>\n",
       "      <th>federalist</th>\n",
       "      <td>170.0</td>\n",
       "      <td>61</td>\n",
       "      <td>61</td>\n",
       "      <td>NaN</td>\n",
       "    </tr>\n",
       "    <tr>\n",
       "      <th>national union</th>\n",
       "      <td>178.0</td>\n",
       "      <td>56</td>\n",
       "      <td>56</td>\n",
       "      <td>NaN</td>\n",
       "    </tr>\n",
       "    <tr>\n",
       "      <th>none</th>\n",
       "      <td>189.0</td>\n",
       "      <td>57</td>\n",
       "      <td>57</td>\n",
       "      <td>NaN</td>\n",
       "    </tr>\n",
       "    <tr>\n",
       "      <th>republican</th>\n",
       "      <td>182.0</td>\n",
       "      <td>42</td>\n",
       "      <td>70</td>\n",
       "      <td>7.202176</td>\n",
       "    </tr>\n",
       "    <tr>\n",
       "      <th>whig</th>\n",
       "      <td>174.0</td>\n",
       "      <td>50</td>\n",
       "      <td>68</td>\n",
       "      <td>9.105859</td>\n",
       "    </tr>\n",
       "  </tbody>\n",
       "</table>\n",
       "</div>"
      ],
      "text/plain": [
       "                      height age              \n",
       "                      median min max       std\n",
       "party                                         \n",
       "democratic             180.0  43  65  6.208289\n",
       "democratic-republican  177.0  57  58  0.500000\n",
       "federalist             170.0  61  61       NaN\n",
       "national union         178.0  56  56       NaN\n",
       "none                   189.0  57  57       NaN\n",
       "republican             182.0  42  70  7.202176\n",
       "whig                   174.0  50  68  9.105859"
      ]
     },
     "execution_count": 35,
     "metadata": {},
     "output_type": "execute_result"
    }
   ],
   "source": [
    "party_groupby.agg({\"height\":[\"median\"], \"age\":[\"min\", \"max\", \"std\"]})"
   ]
  },
  {
   "cell_type": "code",
   "execution_count": 51,
   "id": "7f2cf9cb-4c5c-4f8e-969a-6891c4276be1",
   "metadata": {},
   "outputs": [
    {
     "data": {
      "image/png": "[encoded data removed]",
      "text/plain": [
       "<Figure size 640x480 with 1 Axes>"
      ]
     },
     "metadata": {},
     "output_type": "display_data"
    }
   ],
   "source": [
    "plt.style.use(\"ggplot\")\n",
    "plt.scatter(presidents_df['height'], presidents_df['age'], marker='4',c=\"b\")\n",
    "plt.show()"
   ]
  },
  {
   "cell_type": "code",
   "execution_count": 52,
   "id": "95df6d57-9426-4ec3-92f9-48a463534973",
   "metadata": {},
   "outputs": [
    {
     "data": {
      "image/png": "[encoded data removed]",
      "text/plain": [
       "<Figure size 640x480 with 1 Axes>"
      ]
     },
     "metadata": {},
     "output_type": "display_data"
    }
   ],
   "source": [
    "presidents_df = pd.read_csv('https://sololearn.com/uploads/files/president_heights_party.csv', index_col='name')\n",
    "presidents_df.plot(kind = 'scatter', \n",
    "  x = 'height', \n",
    "  y = 'age',\n",
    "  title = 'U.S. presidents')\n",
    "plt.show()"
   ]
  },
  {
   "cell_type": "code",
   "execution_count": 53,
   "id": "4b829afc-e5d3-4afd-9094-8dd87b79fc35",
   "metadata": {},
   "outputs": [
    {
     "data": {
      "image/png": "[encoded data removed]",
      "text/plain": [
       "<Figure size 640x480 with 1 Axes>"
      ]
     },
     "metadata": {},
     "output_type": "display_data"
    }
   ],
   "source": [
    "presidents_df['height'].plot(kind='hist',\n",
    "  title = 'height',\n",
    "  bins=5)\n",
    "plt.show()"
   ]
  },
  {
   "cell_type": "code",
   "execution_count": 58,
   "id": "f998a0d2-03d8-40c3-a421-9bdfe6ec6ab5",
   "metadata": {},
   "outputs": [
    {
     "data": {
      "image/png": "[encoded data removed]",
      "text/plain": [
       "<Figure size 640x480 with 1 Axes>"
      ]
     },
     "metadata": {},
     "output_type": "display_data"
    }
   ],
   "source": [
    "plt.style.use('classic')\n",
    "presidents_df.boxplot(column='height');\n",
    "plt.show()"
   ]
  },
  {
   "cell_type": "code",
   "execution_count": null,
   "id": "5fafd28a-8479-4b12-82c1-bacdd3466dca",
   "metadata": {},
   "outputs": [],
   "source": []
  }
 ],
 "metadata": {
  "kernelspec": {
   "display_name": "venv",
   "language": "python",
   "name": "venv"
  },
  "language_info": {
   "codemirror_mode": {
    "name": "ipython",
    "version": 3
   },
   "file_extension": ".py",
   "mimetype": "text/x-python",
   "name": "python",
   "nbconvert_exporter": "python",
   "pygments_lexer": "ipython3",
   "version": "3.12.2"
  }
 },
 "nbformat": 4,
 "nbformat_minor": 5
}
