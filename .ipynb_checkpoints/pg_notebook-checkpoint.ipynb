{
 "cells": [
  {
   "cell_type": "code",
   "execution_count": 1,
   "id": "77d2e8cd-235d-4aec-980b-795bb594a39d",
   "metadata": {},
   "outputs": [],
   "source": [
    "import numpy as np"
   ]
  },
  {
   "cell_type": "code",
   "execution_count": 2,
   "id": "d5b36b32-f9a2-42fa-aabc-59c1cfc03a06",
   "metadata": {},
   "outputs": [],
   "source": [
    "heights = [189, 170, 189, 163, 183, 171, 185, 168, 173, 183, 173, 173, 175, 178, 183, 193, 178, 173, 174, 183, 183, 180, 168, 180, 170, 178, 182, 180, 183, 178, 182, 188, 175, 179, 183, 193, 182, 183, 177, 185, 188, 188, 182, 185, 191]\n"
   ]
  },
  {
   "cell_type": "code",
   "execution_count": 4,
   "id": "2e25b26b-ff0c-4361-b61f-b1ac97941d94",
   "metadata": {},
   "outputs": [],
   "source": [
    "heights_arr = np.array(heights)"
   ]
  },
  {
   "cell_type": "code",
   "execution_count": 5,
   "id": "3ddb1d4c-bbc7-4d93-ae6a-012c7018af1a",
   "metadata": {},
   "outputs": [
    {
     "data": {
      "text/plain": [
       "array([189, 170, 189, 163, 183, 171, 185, 168, 173, 183, 173, 173, 175,\n",
       "       178, 183, 193, 178, 173, 174, 183, 183, 180, 168, 180, 170, 178,\n",
       "       182, 180, 183, 178, 182, 188, 175, 179, 183, 193, 182, 183, 177,\n",
       "       185, 188, 188, 182, 185, 191])"
      ]
     },
     "execution_count": 5,
     "metadata": {},
     "output_type": "execute_result"
    }
   ],
   "source": [
    "heights_arr"
   ]
  },
  {
   "cell_type": "code",
   "execution_count": 6,
   "id": "9883529c-7567-4b30-bac0-63ac001cb194",
   "metadata": {},
   "outputs": [
    {
     "data": {
      "text/plain": [
       "numpy.ndarray"
      ]
     },
     "execution_count": 6,
     "metadata": {},
     "output_type": "execute_result"
    }
   ],
   "source": [
    "type(heights_arr)"
   ]
  },
  {
   "cell_type": "code",
   "execution_count": 10,
   "id": "8f706053-1dfb-41d3-a09b-886cf5e440df",
   "metadata": {},
   "outputs": [
    {
     "name": "stdout",
     "output_type": "stream",
     "text": [
      "5\n"
     ]
    }
   ],
   "source": [
    "# Heights higher than 188 cm\n",
    "print((heights_arr > 188).sum())"
   ]
  },
  {
   "cell_type": "code",
   "execution_count": 13,
   "id": "829d9806-22b0-4f9a-bf85-3bec460ed1ae",
   "metadata": {},
   "outputs": [
    {
     "data": {
      "text/plain": [
       "45"
      ]
     },
     "execution_count": 13,
     "metadata": {},
     "output_type": "execute_result"
    }
   ],
   "source": [
    "# GET THE SIZE OF THE ARRAY\n",
    "heights_arr.size"
   ]
  },
  {
   "cell_type": "code",
   "execution_count": 14,
   "id": "640ded97-31a2-474e-b75c-d2ae29ebc87c",
   "metadata": {},
   "outputs": [
    {
     "data": {
      "text/plain": [
       "(45,)"
      ]
     },
     "execution_count": 14,
     "metadata": {},
     "output_type": "execute_result"
    }
   ],
   "source": [
    "# GET THE SHAPE OF THE ARRAY\n",
    "heights_arr.shape"
   ]
  },
  {
   "cell_type": "code",
   "execution_count": 15,
   "id": "38bc1917-0d9b-4435-ab9c-f03097d043e5",
   "metadata": {},
   "outputs": [],
   "source": [
    "ages = [57, 61, 57, 57, 58, 57, 61, 54, 68, 51, 49, 64, 50, 48, 65, 52, 56, 46, 54, 49, 51, 47, 55, 55, 54, 42, 51, 56, 55, 51, 54, 51, 60, 62, 43, 55, 56, 61, 52, 69, 64, 46, 54, 47, 70]"
   ]
  },
  {
   "cell_type": "code",
   "execution_count": 17,
   "id": "b87e0b33-1d9b-4bc0-a67e-238e96e60443",
   "metadata": {},
   "outputs": [],
   "source": [
    "ages_arr = np.array(ages)"
   ]
  },
  {
   "cell_type": "code",
   "execution_count": 18,
   "id": "027ff893-ef64-48af-a666-356559d5aeab",
   "metadata": {},
   "outputs": [
    {
     "data": {
      "text/plain": [
       "array([57, 61, 57, 57, 58, 57, 61, 54, 68, 51, 49, 64, 50, 48, 65, 52, 56,\n",
       "       46, 54, 49, 51, 47, 55, 55, 54, 42, 51, 56, 55, 51, 54, 51, 60, 62,\n",
       "       43, 55, 56, 61, 52, 69, 64, 46, 54, 47, 70])"
      ]
     },
     "execution_count": 18,
     "metadata": {},
     "output_type": "execute_result"
    }
   ],
   "source": [
    "ages_arr"
   ]
  },
  {
   "cell_type": "code",
   "execution_count": 19,
   "id": "3dac5a0e-cc9d-480e-83d6-5b56f5ee8f8b",
   "metadata": {},
   "outputs": [],
   "source": [
    "heights_and_ages = heights + ages "
   ]
  },
  {
   "cell_type": "code",
   "execution_count": 20,
   "id": "26de520a-0bd9-42f1-b032-60888c0844a7",
   "metadata": {},
   "outputs": [
    {
     "data": {
      "text/plain": [
       "[189,\n",
       " 170,\n",
       " 189,\n",
       " 163,\n",
       " 183,\n",
       " 171,\n",
       " 185,\n",
       " 168,\n",
       " 173,\n",
       " 183,\n",
       " 173,\n",
       " 173,\n",
       " 175,\n",
       " 178,\n",
       " 183,\n",
       " 193,\n",
       " 178,\n",
       " 173,\n",
       " 174,\n",
       " 183,\n",
       " 183,\n",
       " 180,\n",
       " 168,\n",
       " 180,\n",
       " 170,\n",
       " 178,\n",
       " 182,\n",
       " 180,\n",
       " 183,\n",
       " 178,\n",
       " 182,\n",
       " 188,\n",
       " 175,\n",
       " 179,\n",
       " 183,\n",
       " 193,\n",
       " 182,\n",
       " 183,\n",
       " 177,\n",
       " 185,\n",
       " 188,\n",
       " 188,\n",
       " 182,\n",
       " 185,\n",
       " 191,\n",
       " 57,\n",
       " 61,\n",
       " 57,\n",
       " 57,\n",
       " 58,\n",
       " 57,\n",
       " 61,\n",
       " 54,\n",
       " 68,\n",
       " 51,\n",
       " 49,\n",
       " 64,\n",
       " 50,\n",
       " 48,\n",
       " 65,\n",
       " 52,\n",
       " 56,\n",
       " 46,\n",
       " 54,\n",
       " 49,\n",
       " 51,\n",
       " 47,\n",
       " 55,\n",
       " 55,\n",
       " 54,\n",
       " 42,\n",
       " 51,\n",
       " 56,\n",
       " 55,\n",
       " 51,\n",
       " 54,\n",
       " 51,\n",
       " 60,\n",
       " 62,\n",
       " 43,\n",
       " 55,\n",
       " 56,\n",
       " 61,\n",
       " 52,\n",
       " 69,\n",
       " 64,\n",
       " 46,\n",
       " 54,\n",
       " 47,\n",
       " 70]"
      ]
     },
     "execution_count": 20,
     "metadata": {},
     "output_type": "execute_result"
    }
   ],
   "source": [
    "heights_and_ages"
   ]
  },
  {
   "cell_type": "code",
   "execution_count": 21,
   "id": "6ae8125e-8608-4a39-b821-abae296d9f28",
   "metadata": {},
   "outputs": [],
   "source": [
    "heights_and_ages_arr = np.array(heights_and_ages)\n"
   ]
  },
  {
   "cell_type": "code",
   "execution_count": 22,
   "id": "305bdf53-8a32-4f02-bbae-51ed6e49f4ea",
   "metadata": {},
   "outputs": [
    {
     "name": "stdout",
     "output_type": "stream",
     "text": [
      "(90,)\n"
     ]
    }
   ],
   "source": [
    "print(heights_and_ages_arr.shape)"
   ]
  },
  {
   "cell_type": "code",
   "execution_count": 27,
   "id": "171975f0-7868-4d63-a69e-d1da6da248bf",
   "metadata": {},
   "outputs": [],
   "source": [
    "heights_and_ages_arr = heights_and_ages_arr.reshape((2,45))"
   ]
  },
  {
   "cell_type": "code",
   "execution_count": 30,
   "id": "e6e0993b-da18-4410-9048-3e84f8c8c7ec",
   "metadata": {},
   "outputs": [
    {
     "data": {
      "text/plain": [
       "array([[189, 170, 189, 163, 183, 171, 185, 168, 173, 183, 173, 173, 175,\n",
       "        178, 183, 193, 178, 173, 174, 183, 183, 180, 168, 180, 170, 178,\n",
       "        182, 180, 183, 178, 182, 188, 175, 179, 183, 193, 182, 183, 177,\n",
       "        185, 188, 188, 182, 185, 191],\n",
       "       [ 57,  61,  57,  57,  58,  57,  61,  54,  68,  51,  49,  64,  50,\n",
       "         48,  65,  52,  56,  46,  54,  49,  51,  47,  55,  55,  54,  42,\n",
       "         51,  56,  55,  51,  54,  51,  60,  62,  43,  55,  56,  61,  52,\n",
       "         69,  64,  46,  54,  47,  70]])"
      ]
     },
     "execution_count": 30,
     "metadata": {},
     "output_type": "execute_result"
    }
   ],
   "source": [
    "heights_and_ages_arr"
   ]
  },
  {
   "cell_type": "code",
   "execution_count": 28,
   "id": "8b9d8da2-86df-4ad9-89d4-94e0a8159cd1",
   "metadata": {},
   "outputs": [
    {
     "data": {
      "text/plain": [
       "numpy.ndarray"
      ]
     },
     "execution_count": 28,
     "metadata": {},
     "output_type": "execute_result"
    }
   ],
   "source": [
    "# Normal Type from Python Built-in \n",
    "\n",
    "type(heights_and_ages_arr)"
   ]
  },
  {
   "cell_type": "code",
   "execution_count": 29,
   "id": "416d0f3c-9739-4a8b-8b2e-d3b0145fff17",
   "metadata": {},
   "outputs": [
    {
     "data": {
      "text/plain": [
       "dtype('int64')"
      ]
     },
     "execution_count": 29,
     "metadata": {},
     "output_type": "execute_result"
    }
   ],
   "source": [
    "# DTYPE Method\n",
    "\n",
    "heights_and_ages_arr.dtype"
   ]
  },
  {
   "cell_type": "code",
   "execution_count": 41,
   "id": "3cdc535f-444b-40be-b88c-e59f53f8cca2",
   "metadata": {},
   "outputs": [],
   "source": [
    "# ACCESS the 4th element of the 1st dimension of the np array and changing its value to 165\n",
    "\n",
    "heights_and_ages_arr[0, 3] = 165"
   ]
  },
  {
   "cell_type": "code",
   "execution_count": 43,
   "id": "8483ed67-4770-43d7-a059-a39caa6b0bea",
   "metadata": {},
   "outputs": [
    {
     "data": {
      "text/plain": [
       "array([[189, 170, 189, 165, 183, 171, 185, 168, 173, 183, 173, 173, 175,\n",
       "        178, 183, 193, 178, 173, 174, 183, 183, 180, 168, 180, 170, 178,\n",
       "        182, 180, 183, 178, 182, 188, 175, 179, 183, 193, 182, 183, 177,\n",
       "        185, 188, 188, 182, 185, 191],\n",
       "       [ 57,  61,  57,  57,  58,  57,  61,  54,  68,  51,  49,  64,  50,\n",
       "         48,  65,  52,  56,  46,  54,  49,  51,  47,  55,  55,  54,  42,\n",
       "         51,  56,  55,  51,  54,  51,  60,  62,  43,  55,  56,  61,  52,\n",
       "         69,  64,  46,  54,  47,  70]])"
      ]
     },
     "execution_count": 43,
     "metadata": {},
     "output_type": "execute_result"
    }
   ],
   "source": [
    "heights_and_ages_arr"
   ]
  },
  {
   "cell_type": "code",
   "execution_count": null,
   "id": "5ef14eb3-0970-4b77-9f0d-2d4c0075dda2",
   "metadata": {},
   "outputs": [],
   "source": []
  },
  {
   "cell_type": "code",
   "execution_count": null,
   "id": "d3739e53-94ce-4bbd-86f2-978ffda0fcbb",
   "metadata": {},
   "outputs": [],
   "source": []
  },
  {
   "cell_type": "code",
   "execution_count": null,
   "id": "cf6f772d-f44e-41bb-9f27-d8344e724f7f",
   "metadata": {},
   "outputs": [],
   "source": []
  }
 ],
 "metadata": {
  "kernelspec": {
   "display_name": "venv",
   "language": "python",
   "name": "venv"
  },
  "language_info": {
   "codemirror_mode": {
    "name": "ipython",
    "version": 3
   },
   "file_extension": ".py",
   "mimetype": "text/x-python",
   "name": "python",
   "nbconvert_exporter": "python",
   "pygments_lexer": "ipython3",
   "version": "3.12.2"
  }
 },
 "nbformat": 4,
 "nbformat_minor": 5
}
