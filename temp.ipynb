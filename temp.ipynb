{
 "cells": [
  {
   "cell_type": "code",
   "execution_count": 39,
   "id": "94f49e96-b6bf-4a85-a36e-f890f2a15fbb",
   "metadata": {},
   "outputs": [],
   "source": [
    "import numpy as np"
   ]
  },
  {
   "cell_type": "code",
   "execution_count": 40,
   "id": "8c76be88-15c3-4d6f-8542-67adef4112a0",
   "metadata": {},
   "outputs": [],
   "source": [
    "centroids = {\n",
    "    1: [0,0],\n",
    "    2: [2,2]\n",
    "}"
   ]
  },
  {
   "cell_type": "code",
   "execution_count": 41,
   "id": "d7c580f8-090b-4b82-a618-022c74e49884",
   "metadata": {},
   "outputs": [
    {
     "data": {
      "text/plain": [
       "{1: [0, 0], 2: [2, 2]}"
      ]
     },
     "execution_count": 41,
     "metadata": {},
     "output_type": "execute_result"
    }
   ],
   "source": [
    "centroids"
   ]
  },
  {
   "cell_type": "code",
   "execution_count": 42,
   "id": "b5b649b1-3d34-462e-85e7-96ca43f19a26",
   "metadata": {},
   "outputs": [],
   "source": [
    "def calculate_euclidean_dist(datapoints, centroid, round_=False):\n",
    "    from math import dist\n",
    "    result = dist(datapoints, centroid)\n",
    "    return result if not round_ else round(result, 2)"
   ]
  },
  {
   "cell_type": "code",
   "execution_count": 43,
   "id": "c50132c0-a784-4e43-b07c-8f10d97cfb46",
   "metadata": {},
   "outputs": [
    {
     "data": {
      "text/plain": [
       "[[1, 0], [0, 0.5], [4, 0]]"
      ]
     },
     "execution_count": 43,
     "metadata": {},
     "output_type": "execute_result"
    }
   ],
   "source": [
    "dp_amount:int = 3\n",
    "datapoints = [[1,0], [0, 0.5], [4,0]]\n",
    "datapoints\n"
   ]
  },
  {
   "cell_type": "code",
   "execution_count": 44,
   "id": "6f68a410-050a-4d33-b629-3e9fe332a7ea",
   "metadata": {},
   "outputs": [],
   "source": [
    "closter_1 = []"
   ]
  },
  {
   "cell_type": "code",
   "execution_count": 45,
   "id": "6cf1fc5c-cc71-43a3-a332-2553b222d413",
   "metadata": {},
   "outputs": [],
   "source": [
    "closter_2 = []"
   ]
  },
  {
   "cell_type": "code",
   "execution_count": 46,
   "id": "f851dd2d-64e4-41b6-ad09-ab63cc2e8bcc",
   "metadata": {},
   "outputs": [
    {
     "name": "stdout",
     "output_type": "stream",
     "text": [
      "datapoint 0 \t [1, 0]\n",
      "-------------------------\n",
      "res 1 \t\t 1.0\n",
      "res 2 \t\t 2.24\n",
      "-------------------------\n",
      "r in res 1\n",
      "\n",
      "datapoint 1 \t [0, 0.5]\n",
      "-------------------------\n",
      "res 1 \t\t 0.5\n",
      "res 2 \t\t 2.5\n",
      "-------------------------\n",
      "r in res 1\n",
      "\n",
      "datapoint 2 \t [4, 0]\n",
      "-------------------------\n",
      "res 1 \t\t 4.0\n",
      "res 2 \t\t 2.83\n",
      "-------------------------\n",
      "r in res 2\n",
      "\n"
     ]
    }
   ],
   "source": [
    "for i, dp in enumerate(datapoints):\n",
    "    print(f\"datapoint {i} \\t\",dp,)\n",
    "    print(\"-\" * 25)\n",
    "    res_1 = calculate_euclidean_dist(dp, centroids[1], round_=True)\n",
    "    print(\"res 1 \\t\\t\", res_1)\n",
    "    res_2 = calculate_euclidean_dist(dp, centroids[2], round_=True)\n",
    "    print(\"res 2 \\t\\t\", res_2)\n",
    "    print(\"-\" * 25)\n",
    "    r = min(res_1,res_2)\n",
    "    if str(r) in str(res_1) or res_1 == res_2:\n",
    "        print(\"r in res 1\")\n",
    "        closter_1.append(dp)\n",
    "    else:\n",
    "        print(\"r in res 2\")\n",
    "        closter_2.append(dp)\n",
    "    print()"
   ]
  },
  {
   "cell_type": "code",
   "execution_count": 47,
   "id": "059939fc-3e2d-408f-b8c5-f5c2080d2607",
   "metadata": {},
   "outputs": [
    {
     "data": {
      "text/plain": [
       "[[1, 0], [0, 0.5]]"
      ]
     },
     "execution_count": 47,
     "metadata": {},
     "output_type": "execute_result"
    }
   ],
   "source": [
    "closter_1"
   ]
  },
  {
   "cell_type": "code",
   "execution_count": 48,
   "id": "6453f1e3-3231-4bf0-a9b8-e0fd679151df",
   "metadata": {},
   "outputs": [
    {
     "data": {
      "text/plain": [
       "[[4, 0]]"
      ]
     },
     "execution_count": 48,
     "metadata": {},
     "output_type": "execute_result"
    }
   ],
   "source": [
    "closter_2"
   ]
  },
  {
   "cell_type": "code",
   "execution_count": 67,
   "id": "b39b1f00-cede-41e2-adff-a0240bfab440",
   "metadata": {},
   "outputs": [],
   "source": [
    "centroids[0] = np.mean(np.array(closter_1), axis=0)\n",
    "centroids[1] = np.mean(np.array(closter_2), axis=0)"
   ]
  },
  {
   "cell_type": "code",
   "execution_count": 68,
   "id": "eb60afc8-fe87-4245-9bb9-b529d5b488e4",
   "metadata": {},
   "outputs": [
    {
     "data": {
      "text/plain": [
       "array([0.5 , 0.25])"
      ]
     },
     "execution_count": 68,
     "metadata": {},
     "output_type": "execute_result"
    }
   ],
   "source": [
    "centroids[0]"
   ]
  },
  {
   "cell_type": "code",
   "execution_count": 69,
   "id": "13881f59-a39e-4460-a53b-05fe4721aedd",
   "metadata": {},
   "outputs": [
    {
     "data": {
      "text/plain": [
       "array([4., 0.])"
      ]
     },
     "execution_count": 69,
     "metadata": {},
     "output_type": "execute_result"
    }
   ],
   "source": [
    "centroids[1]"
   ]
  },
  {
   "cell_type": "code",
   "execution_count": 79,
   "id": "09cbe109-ebce-48f0-8321-4c54f4ef0963",
   "metadata": {},
   "outputs": [
    {
     "name": "stdin",
     "output_type": "stream",
     "text": [
      " 3\n"
     ]
    }
   ],
   "source": [
    "# the input thing\n",
    "n = int(input())"
   ]
  },
  {
   "cell_type": "code",
   "execution_count": 92,
   "id": "dcdd9e43-4686-41e7-9a84-65ca562fde0f",
   "metadata": {},
   "outputs": [
    {
     "name": "stdin",
     "output_type": "stream",
     "text": [
      " 1 0\n",
      " 0 0.5\n",
      " 4 0\n"
     ]
    }
   ],
   "source": [
    "datapoints_2 = []\n",
    "for i in range(n):\n",
    "    x = [float(x) for x in input().split()]\n",
    "    datapoints_2.append(x)"
   ]
  },
  {
   "cell_type": "code",
   "execution_count": 93,
   "id": "bbf2c7a3-525c-4346-b4d9-7e2b1cdda007",
   "metadata": {},
   "outputs": [
    {
     "data": {
      "text/plain": [
       "[[1.0, 0.0], [0.0, 0.5], [4.0, 0.0]]"
      ]
     },
     "execution_count": 93,
     "metadata": {},
     "output_type": "execute_result"
    }
   ],
   "source": [
    "datapoints_2"
   ]
  },
  {
   "cell_type": "code",
   "execution_count": 94,
   "id": "caa07005-7e89-489b-a781-eb93581d15f1",
   "metadata": {},
   "outputs": [
    {
     "name": "stdin",
     "output_type": "stream",
     "text": [
      " 3\n",
      " 1 0\n",
      " 0 0.5\n",
      " 4 0\n"
     ]
    },
    {
     "name": "stdout",
     "output_type": "stream",
     "text": [
      "[0.5  0.25]\n",
      "[4. 0.]\n"
     ]
    }
   ],
   "source": [
    "import numpy as np\n",
    "\n",
    "def calculate_euclidean_dist(datapoints, centroid, round_=False):\n",
    "    from math import dist\n",
    "    result = dist(datapoints, centroid)\n",
    "    return result if not round_ else round(result, 2)\n",
    "\n",
    "centroids = {\n",
    "    1: [0,0],\n",
    "    2: [2,2]\n",
    "}\n",
    "\n",
    "closter_1 = []\n",
    "closter_2 = []\n",
    "\n",
    "n = int(input())\n",
    "\n",
    "datapoints = []\n",
    "for i in range(n):\n",
    "    x = [float(x) for x in input().split()]\n",
    "    datapoints.append(x)\n",
    "\n",
    "for i, dp in enumerate(datapoints):\n",
    "    res_1 = calculate_euclidean_dist(dp, centroids[1], round_=True)\n",
    "    res_2 = calculate_euclidean_dist(dp, centroids[2], round_=True)\n",
    "    r = min(res_1,res_2)\n",
    "    if str(r) in str(res_1) or res_1 == res_2:\n",
    "        closter_1.append(dp)\n",
    "    else:\n",
    "        closter_2.append(dp)\n",
    "\n",
    "centroids[0] = np.mean(np.array(closter_1), axis=0)\n",
    "centroids[1] = np.mean(np.array(closter_2), axis=0)\n",
    "\n",
    "print(centroids[0])\n",
    "print(centroids[1])\n"
   ]
  },
  {
   "cell_type": "code",
   "execution_count": null,
   "id": "5e51e15b-8007-4f0f-8a80-04723d8a90ff",
   "metadata": {},
   "outputs": [],
   "source": []
  }
 ],
 "metadata": {
  "kernelspec": {
   "display_name": "venv",
   "language": "python",
   "name": "venv"
  },
  "language_info": {
   "codemirror_mode": {
    "name": "ipython",
    "version": 3
   },
   "file_extension": ".py",
   "mimetype": "text/x-python",
   "name": "python",
   "nbconvert_exporter": "python",
   "pygments_lexer": "ipython3",
   "version": "3.12.2"
  }
 },
 "nbformat": 4,
 "nbformat_minor": 5
}
