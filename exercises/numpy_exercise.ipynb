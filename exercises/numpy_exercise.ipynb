{
 "cells": [
  {
   "cell_type": "code",
   "execution_count": 1,
   "id": "382deeb4-1184-4f47-9443-37821564b3d1",
   "metadata": {},
   "outputs": [],
   "source": [
    "import numpy as np"
   ]
  },
  {
   "cell_type": "code",
   "execution_count": 2,
   "id": "1a01303d-0395-4506-94d7-d90b003996d4",
   "metadata": {},
   "outputs": [
    {
     "name": "stdin",
     "output_type": "stream",
     "text": [
      " 2 2\n"
     ]
    }
   ],
   "source": [
    "n, p = [int(x) for x in input().split()]"
   ]
  },
  {
   "cell_type": "code",
   "execution_count": 3,
   "id": "0dbb9d32-04a7-42b0-ae3b-3922d30cfea1",
   "metadata": {},
   "outputs": [],
   "source": [
    "rows_list = []"
   ]
  },
  {
   "cell_type": "code",
   "execution_count": 4,
   "id": "541dad17-ac88-4fc9-90ef-6f9c2729bb7d",
   "metadata": {},
   "outputs": [
    {
     "name": "stdin",
     "output_type": "stream",
     "text": [
      " 1 1.5\n",
      " 2 2.9\n"
     ]
    }
   ],
   "source": [
    "for _ in range(n):\n",
    "    row = [float(x) for x in input().split()]\n",
    "    rows_list.append(row)"
   ]
  },
  {
   "cell_type": "code",
   "execution_count": 5,
   "id": "6a4a41ba-278e-410e-8144-8d7d6fdd9d9a",
   "metadata": {},
   "outputs": [
    {
     "data": {
      "text/plain": [
       "[[1.0, 1.5], [2.0, 2.9]]"
      ]
     },
     "execution_count": 5,
     "metadata": {},
     "output_type": "execute_result"
    }
   ],
   "source": [
    "rows_list"
   ]
  },
  {
   "cell_type": "code",
   "execution_count": 6,
   "id": "a2041346-47fd-47e9-930c-ebeac72e688c",
   "metadata": {},
   "outputs": [],
   "source": [
    "proper_array = np.array(rows_list)"
   ]
  },
  {
   "cell_type": "code",
   "execution_count": 7,
   "id": "7b8cd14c-898d-441d-8afd-cde151494f1e",
   "metadata": {},
   "outputs": [
    {
     "data": {
      "text/plain": [
       "array([[1. , 1.5],\n",
       "       [2. , 2.9]])"
      ]
     },
     "execution_count": 7,
     "metadata": {},
     "output_type": "execute_result"
    }
   ],
   "source": [
    "proper_array"
   ]
  },
  {
   "cell_type": "code",
   "execution_count": 12,
   "id": "b1ddbc86-7412-4531-817e-2bc788d53adf",
   "metadata": {},
   "outputs": [],
   "source": [
    "row_mean_array = np.array([row.mean() for row in proper_array])"
   ]
  },
  {
   "cell_type": "code",
   "execution_count": 13,
   "id": "fc494778-382c-4257-be03-a8ccc8d3e8b1",
   "metadata": {},
   "outputs": [
    {
     "data": {
      "text/plain": [
       "array([1.25, 2.45])"
      ]
     },
     "execution_count": 13,
     "metadata": {},
     "output_type": "execute_result"
    }
   ],
   "source": [
    "row_mean_array"
   ]
  },
  {
   "cell_type": "code",
   "execution_count": 15,
   "id": "71d6e690-ce6c-4afe-9da0-a0173953345c",
   "metadata": {},
   "outputs": [],
   "source": [
    "row_mean_array = np.array([round(row,2) for row in row_mean_array])"
   ]
  },
  {
   "cell_type": "code",
   "execution_count": 16,
   "id": "3ac9423c-943f-4d8d-b446-ebd35ea22a58",
   "metadata": {},
   "outputs": [
    {
     "data": {
      "text/plain": [
       "array([1.25, 2.45])"
      ]
     },
     "execution_count": 16,
     "metadata": {},
     "output_type": "execute_result"
    }
   ],
   "source": [
    "row_mean_array"
   ]
  },
  {
   "cell_type": "code",
   "execution_count": null,
   "id": "7418eba3-8421-4b1d-8f10-873760bf6dfd",
   "metadata": {},
   "outputs": [],
   "source": []
  }
 ],
 "metadata": {
  "kernelspec": {
   "display_name": "Python 3 (ipykernel)",
   "language": "python",
   "name": "python3"
  },
  "language_info": {
   "codemirror_mode": {
    "name": "ipython",
    "version": 3
   },
   "file_extension": ".py",
   "mimetype": "text/x-python",
   "name": "python",
   "nbconvert_exporter": "python",
   "pygments_lexer": "ipython3",
   "version": "3.12.0"
  }
 },
 "nbformat": 4,
 "nbformat_minor": 5
}
